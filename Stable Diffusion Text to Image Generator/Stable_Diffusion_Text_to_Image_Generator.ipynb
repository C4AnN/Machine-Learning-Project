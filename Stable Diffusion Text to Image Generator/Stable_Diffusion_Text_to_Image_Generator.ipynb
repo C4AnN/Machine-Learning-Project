{
  "nbformat": 4,
  "nbformat_minor": 0,
  "metadata": {
    "colab": {
      "provenance": [],
      "gpuType": "T4"
    },
    "kernelspec": {
      "name": "python3",
      "display_name": "Python 3"
    },
    "language_info": {
      "name": "python"
    },
    "accelerator": "GPU"
  },
  "cells": [
    {
      "cell_type": "code",
      "source": [
        "!pip install gradio"
      ],
      "metadata": {
        "id": "h-5xx-Ve_WrS"
      },
      "execution_count": null,
      "outputs": []
    },
    {
      "cell_type": "code",
      "source": [
        "from diffusers import StableDiffusionPipeline\n",
        "import torch\n",
        "import gradio as gr\n",
        "\n",
        "# Load model\n",
        "model_id = \"sd-legacy/stable-diffusion-v1-5\"\n",
        "pipe = StableDiffusionPipeline.from_pretrained(model_id, torch_dtype=torch.float16)\n",
        "pipe = pipe.to(\"cuda\")\n",
        "\n",
        "# Fungsi untuk menghasilkan beberapa gambar dari prompt\n",
        "def generate_images(prompt, num_images=4):\n",
        "    images = pipe(prompt, num_inference_steps=50, num_images_per_prompt=num_images).images\n",
        "    return images\n",
        "\n",
        "# UI Modern dengan Blocks\n",
        "with gr.Blocks(theme=gr.themes.Soft(), title=\"Stable Diffusion - Text to Image Generator\") as demo:\n",
        "    gr.Markdown(\n",
        "        \"\"\"\n",
        "        <div style=\"text-align: center; padding: 10px;\">\n",
        "            <h1 style=\"font-size: 2.5rem;\">🎨🖼️ Stable Diffusion Image Generator</h1>\n",
        "            <p style=\"font-size: 1.1rem; color: #444;\">\n",
        "                Masukkan <b>deskripsi teks</b> dan hasilkan gambar menggunakan <code>Stable Diffusion v1.5</code>.<br>\n",
        "                Ciptakan dunia imajinasi dalam bentuk visual hanya dengan kata-kata.\n",
        "            </p>\n",
        "        </div>\n",
        "        \"\"\"\n",
        "    )\n",
        "\n",
        "    with gr.Row():\n",
        "        with gr.Column(scale=1):\n",
        "            prompt_input = gr.Textbox(\n",
        "                label=\"📝 Prompt\",\n",
        "                placeholder=\"Contoh: a futuristic city skyline at sunset in cyberpunk style\",\n",
        "                lines=2\n",
        "            )\n",
        "            num_slider = gr.Slider(1, 8, step=1, value=4, label=\"🖼️ Jumlah Gambar\")\n",
        "            generate_btn = gr.Button(\"🚀 Generate Images\", variant=\"primary\", size=\"lg\")\n",
        "        with gr.Column(scale=2):\n",
        "            gallery_output = gr.Gallery(\n",
        "                label=\"📸 Generated Images\",\n",
        "                columns=2,\n",
        "                height=\"auto\"\n",
        "            )\n",
        "\n",
        "    generate_btn.click(fn=generate_images, inputs=[prompt_input, num_slider], outputs=gallery_output)\n",
        "\n",
        "# Jalankan aplikasi\n",
        "demo.launch()\n"
      ],
      "metadata": {
        "id": "tvf5Rud1Dhwa"
      },
      "execution_count": null,
      "outputs": []
    }
  ]
}