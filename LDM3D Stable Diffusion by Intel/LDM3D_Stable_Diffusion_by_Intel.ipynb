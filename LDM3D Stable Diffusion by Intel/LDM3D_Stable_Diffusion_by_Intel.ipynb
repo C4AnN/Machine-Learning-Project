{
  "nbformat": 4,
  "nbformat_minor": 0,
  "metadata": {
    "colab": {
      "provenance": [],
      "gpuType": "T4"
    },
    "kernelspec": {
      "name": "python3",
      "display_name": "Python 3"
    },
    "language_info": {
      "name": "python"
    },
    "accelerator": "GPU"
  },
  "cells": [
    {
      "cell_type": "code",
      "source": [
        "!pip install gradio"
      ],
      "metadata": {
        "id": "rWAtzUfWihfE"
      },
      "execution_count": null,
      "outputs": []
    },
    {
      "cell_type": "code",
      "source": [
        "import gradio as gr\n",
        "from diffusers import StableDiffusionLDM3DPipeline\n",
        "import torch\n",
        "from PIL import Image\n",
        "import uuid\n",
        "\n",
        "# Load model\n",
        "pipe = StableDiffusionLDM3DPipeline.from_pretrained(\"Intel/ldm3d-4c\")\n",
        "pipe.to(\"cuda\" if torch.cuda.is_available() else \"cpu\")\n",
        "\n",
        "# Fungsi untuk generate gambar\n",
        "def generate_images(prompt):\n",
        "    if not prompt:\n",
        "        return None, None\n",
        "\n",
        "    output = pipe(prompt)\n",
        "    rgb_image, depth_image = output.rgb[0], output.depth[0]\n",
        "\n",
        "    # Simpan gambar dengan nama unik\n",
        "    uid = str(uuid.uuid4())[:8]\n",
        "    rgb_path = f\"{uid}_rgb.jpg\"\n",
        "    depth_path = f\"{uid}_depth.png\"\n",
        "    rgb_image.save(rgb_path)\n",
        "    depth_image.save(depth_path)\n",
        "\n",
        "    return rgb_path, depth_path\n",
        "\n",
        "# Gradio UI\n",
        "with gr.Blocks(title=\"LDM3D Stable Diffusion\") as demo:\n",
        "    gr.Markdown(\n",
        "        \"\"\"\n",
        "        <div style=\"text-align: center; margin-bottom: 20px;\">\n",
        "            <h1 style=\"font-size: 2.2em;\">🌀 LDM3D Stable Diffusion</h1>\n",
        "            <p style=\"font-size: 1.1em; color: #555;\">\n",
        "                Masukkan prompt untuk menghasilkan gambar 3D lengkap dengan kedalaman (Depth Map) menggunakan model <b>Intel LDM3D-4C</b>.\n",
        "            </p>\n",
        "        </div>\n",
        "        \"\"\",\n",
        "        elem_id=\"header\"\n",
        "    )\n",
        "\n",
        "    with gr.Column(elem_id=\"input-section\", scale=1):\n",
        "        prompt_input = gr.Textbox(\n",
        "            label=\"📝 Prompt\",\n",
        "            placeholder=\"Contoh: A dragon fruit on a table\",\n",
        "            lines=1,\n",
        "            max_lines=1,\n",
        "            show_label=True\n",
        "        )\n",
        "        generate_btn = gr.Button(\"🎨 Generate Gambar\", variant=\"primary\")\n",
        "\n",
        "    gr.Markdown(\"---\")\n",
        "\n",
        "    with gr.Row(elem_id=\"output-section\"):\n",
        "        rgb_output = gr.Image(\n",
        "            label=\"📷 Gambar RGB\",\n",
        "            type=\"filepath\",\n",
        "            height=256,\n",
        "            width=256,\n",
        "            show_label=True,\n",
        "            interactive=False\n",
        "        )\n",
        "        depth_output = gr.Image(\n",
        "            label=\"🌊 Depth Map\",\n",
        "            type=\"filepath\",\n",
        "            height=256,\n",
        "            width=256,\n",
        "            show_label=True,\n",
        "            interactive=False\n",
        "        )\n",
        "\n",
        "    generate_btn.click(fn=generate_images, inputs=prompt_input, outputs=[rgb_output, depth_output])\n",
        "\n",
        "# Jalankan aplikasi\n",
        "demo.launch()\n"
      ],
      "metadata": {
        "id": "SYBmEeBEeCrB"
      },
      "execution_count": null,
      "outputs": []
    }
  ]
}