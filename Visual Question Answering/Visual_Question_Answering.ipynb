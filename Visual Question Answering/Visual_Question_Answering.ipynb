{
  "nbformat": 4,
  "nbformat_minor": 0,
  "metadata": {
    "colab": {
      "provenance": [],
      "gpuType": "T4"
    },
    "kernelspec": {
      "name": "python3",
      "display_name": "Python 3"
    },
    "language_info": {
      "name": "python"
    },
    "accelerator": "GPU"
  },
  "cells": [
    {
      "cell_type": "code",
      "source": [
        "!pip install gradio"
      ],
      "metadata": {
        "id": "QYIzo3SxLF_l"
      },
      "execution_count": null,
      "outputs": []
    },
    {
      "cell_type": "code",
      "source": [
        "import gradio as gr\n",
        "import torch\n",
        "from PIL import Image\n",
        "from transformers import BlipProcessor, BlipForQuestionAnswering\n",
        "\n",
        "# Cek perangkat\n",
        "device = torch.device(\"cuda\" if torch.cuda.is_available() else \"cpu\")\n",
        "\n",
        "# Load processor dan model\n",
        "processor = BlipProcessor.from_pretrained(\"Salesforce/blip-vqa-base\")\n",
        "model = BlipForQuestionAnswering.from_pretrained(\"Salesforce/blip-vqa-base\").to(device)\n",
        "\n",
        "# Fungsi inferensi\n",
        "def answer_question(image: Image.Image, question: str) -> str:\n",
        "    image = image.convert('RGB')  # Pastikan gambar RGB\n",
        "    inputs = processor(image, question, return_tensors=\"pt\").to(device)\n",
        "\n",
        "    with torch.no_grad():\n",
        "        output_ids = model.generate(**inputs)\n",
        "\n",
        "    answer = processor.tokenizer.decode(output_ids[0], skip_special_tokens=True)\n",
        "    return answer\n",
        "\n",
        "# Layout Gradio dengan desain modern\n",
        "with gr.Blocks(theme=gr.themes.Soft(), title=\"Visual Question Answering - BLIP\") as demo:\n",
        "    gr.Markdown(\n",
        "        \"\"\"\n",
        "        <div style=\"text-align: center; padding: 10px;\">\n",
        "            <h1 style=\"font-size: 2.5rem;\">🧠📷 Visual Question Answering</h1>\n",
        "            <p style=\"font-size: 1.2rem; color: #555;\">\n",
        "                Unggah gambar dan ajukan pertanyaan. Model <b>BLIP</b> akan memberikan jawaban berdasarkan isi gambar.\n",
        "            </p>\n",
        "        </div>\n",
        "        \"\"\",\n",
        "        elem_id=\"header\"\n",
        "    )\n",
        "\n",
        "    with gr.Row(equal_height=True):\n",
        "        with gr.Column(scale=1, min_width=400):\n",
        "            image_input = gr.Image(type=\"pil\", label=\"Upload Image\", show_label=True, height=300)\n",
        "            question_input = gr.Textbox(label=\"Your Question\", placeholder=\"e.g., What is in the picture?\", lines=1)\n",
        "            submit_btn = gr.Button(\"🔍 Get Answer\", variant=\"primary\", size=\"lg\")\n",
        "        with gr.Column(scale=1, min_width=400):\n",
        "            answer_output = gr.Textbox(label=\"Answer\", placeholder=\"Model's answer will appear here\", lines=3)\n",
        "\n",
        "    submit_btn.click(fn=answer_question, inputs=[image_input, question_input], outputs=answer_output)\n",
        "\n",
        "# Jalankan aplikasi\n",
        "demo.launch()\n"
      ],
      "metadata": {
        "id": "4mSRMEBfTJZL"
      },
      "execution_count": null,
      "outputs": []
    }
  ]
}