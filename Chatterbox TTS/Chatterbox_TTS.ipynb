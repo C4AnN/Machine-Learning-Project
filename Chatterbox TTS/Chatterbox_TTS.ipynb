{
  "nbformat": 4,
  "nbformat_minor": 0,
  "metadata": {
    "colab": {
      "provenance": [],
      "gpuType": "T4"
    },
    "kernelspec": {
      "name": "python3",
      "display_name": "Python 3"
    },
    "language_info": {
      "name": "python"
    },
    "accelerator": "GPU"
  },
  "cells": [
    {
      "cell_type": "code",
      "source": [
        "!pip install numpy==1.25.2"
      ],
      "metadata": {
        "id": "zZ0Z5gkgJZDc"
      },
      "execution_count": null,
      "outputs": []
    },
    {
      "cell_type": "code",
      "source": [
        "!pip install torch==2.6.0 torchvision==0.17.0 torchaudio==2.6.0 --index-url https://download.pytorch.org/whl/cu121\n",
        "!pip install chatterbox-tts\n"
      ],
      "metadata": {
        "id": "UFgw9_CzEvzV"
      },
      "execution_count": null,
      "outputs": []
    },
    {
      "cell_type": "code",
      "source": [
        "!pip install gradio"
      ],
      "metadata": {
        "id": "BVNi6wuFMLFV"
      },
      "execution_count": null,
      "outputs": []
    },
    {
      "cell_type": "code",
      "source": [
        "import torchaudio as ta\n",
        "from chatterbox.tts import ChatterboxTTS\n",
        "\n",
        "model = ChatterboxTTS.from_pretrained(device=\"cuda\")\n",
        "\n",
        "text = \"Ezreal and Jinx teamed up with Ahri, Yasuo, and Teemo to take down the enemy's Nexus in an epic late-game pentakill.\"\n",
        "wav = model.generate(text)\n",
        "ta.save(\"test-1.wav\", wav, model.sr)\n",
        "\n",
        "# If you want to synthesize with a different voice, specify the audio prompt\n",
        "AUDIO_PROMPT_PATH=\"/content/Voicy_The akatsuki.mp3\"\n",
        "wav = model.generate(text, audio_prompt_path=AUDIO_PROMPT_PATH)\n",
        "ta.save(\"test-2.wav\", wav, model.sr)\n"
      ],
      "metadata": {
        "id": "4kKDgaogBmGP"
      },
      "execution_count": null,
      "outputs": []
    },
    {
      "cell_type": "code",
      "source": [
        "import torch\n",
        "import gradio as gr\n",
        "import torchaudio as ta\n",
        "from chatterbox.tts import ChatterboxTTS\n",
        "import tempfile\n",
        "\n",
        "# Load model\n",
        "model = ChatterboxTTS.from_pretrained(device=\"cuda\" if torch.cuda.is_available() else \"cpu\")\n",
        "\n",
        "# TTS function with parameters\n",
        "def tts_generate(text, audio_prompt_path, exaggeration, cfg_weight, temperature):\n",
        "    kwargs = {\n",
        "        \"exaggeration\": exaggeration,\n",
        "        \"cfg_weight\": cfg_weight,\n",
        "        \"temperature\": temperature\n",
        "    }\n",
        "\n",
        "    if audio_prompt_path is not None:\n",
        "        wav = model.generate(text, audio_prompt_path=audio_prompt_path, **kwargs)\n",
        "    else:\n",
        "        wav = model.generate(text, **kwargs)\n",
        "\n",
        "    with tempfile.NamedTemporaryFile(suffix=\".wav\", delete=False) as tmp_wav:\n",
        "        ta.save(tmp_wav.name, wav, model.sr)\n",
        "        return tmp_wav.name\n",
        "\n",
        "# Gradio Interface\n",
        "with gr.Blocks(title=\"Chatterbox TTS\") as demo:\n",
        "    gr.Markdown(\n",
        "        \"\"\"\n",
        "        <div style=\"text-align: center; font-size: 24px; font-weight: bold;\">🗣️ Chatterbox TTS</div>\n",
        "        <div style=\"text-align: center; font-size: 16px; margin-top: -10px; color: gray;\">\n",
        "        Generate expressive speech from text — with optional voice cloning using audio prompts.\n",
        "        </div>\n",
        "        <br>\n",
        "        \"\"\"\n",
        "    )\n",
        "\n",
        "    with gr.Row():\n",
        "        with gr.Column():\n",
        "            text_input = gr.Textbox(\n",
        "                label=\"📝 Enter your text\",\n",
        "                placeholder=\"e.g. Ezreal and Jinx teamed up with Ahri...\",\n",
        "                lines=5\n",
        "            )\n",
        "            audio_prompt = gr.Audio(\n",
        "                label=\"🎤 Audio Prompt (optional)\",\n",
        "                type=\"filepath\",\n",
        "                show_label=True\n",
        "            )\n",
        "        with gr.Column():\n",
        "            with gr.Group():\n",
        "                gr.Markdown(\"🎛️ **Voice Style Settings**\")\n",
        "                exaggeration = gr.Slider(\n",
        "                    0.0, 1.5, 0.5, step=0.05,\n",
        "                    label=\"🎭 Exaggeration\",\n",
        "                    info=\"Controls emotional expression of the voice.\"\n",
        "                )\n",
        "                cfg_weight = gr.Slider(\n",
        "                    0.0, 1.0, 0.5, step=0.05,\n",
        "                    label=\"🎯 CFG Weight\",\n",
        "                    info=\"Strength of resemblance to the prompt voice.\"\n",
        "                )\n",
        "                temperature = gr.Slider(\n",
        "                    0.01, 1.0, 0.8, step=0.01,\n",
        "                    label=\"🌡️ Temperature\",\n",
        "                    info=\"Higher = more creative/random intonation.\"\n",
        "                )\n",
        "\n",
        "    generate_btn = gr.Button(\"🔊 Generate Speech\", size=\"lg\", elem_classes=\"generate-btn\")\n",
        "\n",
        "    output_audio = gr.Audio(\n",
        "        label=\"✅ Generated Audio\",\n",
        "        type=\"filepath\",\n",
        "        show_download_button=True,\n",
        "        autoplay=True\n",
        "    )\n",
        "\n",
        "    generate_btn.click(\n",
        "        fn=tts_generate,\n",
        "        inputs=[text_input, audio_prompt, exaggeration, cfg_weight, temperature],\n",
        "        outputs=output_audio\n",
        "    )\n",
        "\n",
        "    # Custom CSS for style\n",
        "    gr.Markdown(\"\"\"\n",
        "    <style>\n",
        "    .generate-btn button {\n",
        "        background-color: #4CAF50;\n",
        "        color: white;\n",
        "        font-size: 18px;\n",
        "        padding: 14px 24px;\n",
        "        border-radius: 10px;\n",
        "    }\n",
        "    .generate-btn button:hover {\n",
        "        background-color: #45a049;\n",
        "    }\n",
        "    </style>\n",
        "    \"\"\")\n",
        "\n",
        "demo.launch(share=True)\n"
      ],
      "metadata": {
        "id": "04HM2adUdSW9"
      },
      "execution_count": null,
      "outputs": []
    }
  ]
}