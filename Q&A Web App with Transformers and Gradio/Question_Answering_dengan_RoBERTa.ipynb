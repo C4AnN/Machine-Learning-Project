{
  "cells": [
    {
      "cell_type": "code",
      "source": [
        "!pip install transformers gradio\n",
        "# Pytorch install\n",
        "!pip install torch==1.10.2+cu113 torchvision==0.11.3+cu113 torchaudio===0.10.2+cu113 -f https://download.pytorch.org/whl/cu113/torch_stable.html\n",
        "# Install transformers\n",
        "!pip install transformers"
      ],
      "metadata": {
        "id": "zUiRGctRXQ23"
      },
      "execution_count": null,
      "outputs": []
    },
    {
      "cell_type": "code",
      "source": [
        "from transformers import pipeline\n",
        "import gradio as gr\n",
        "\n",
        "# Load pipeline dengan model RoBERTa\n",
        "qa_pipeline = pipeline(\"question-answering\", model=\"deepset/roberta-base-squad2\", tokenizer=\"deepset/roberta-base-squad2\")\n",
        "\n",
        "# Fungsi utama untuk QA\n",
        "def answer_question(context, question):\n",
        "    if not context.strip() or not question.strip():\n",
        "        return \"⚠️ Mohon masukkan konteks dan pertanyaan.\"\n",
        "    result = qa_pipeline({'context': context, 'question': question})\n",
        "    return result['answer']\n",
        "\n",
        "# UI dengan Blocks dan desain modern\n",
        "with gr.Blocks(theme=gr.themes.Soft(), title=\"🧠📖 Question Answering - RoBERTa\") as demo:\n",
        "    gr.Markdown(\n",
        "        \"\"\"\n",
        "        <div style=\"text-align: center; margin-bottom: 20px;\">\n",
        "            <h1 style=\"font-size: 2.5rem;\">🧠📖 Question Answering</h1>\n",
        "            <p style=\"font-size: 1.1rem; color: #444;\">\n",
        "                Masukkan <strong>teks konteks</strong> dan ajukan <strong>pertanyaan</strong>.\n",
        "                Model <code>RoBERTa</code> dari deepset akan memberikan jawabannya.\n",
        "            </p>\n",
        "        </div>\n",
        "        \"\"\"\n",
        "    )\n",
        "\n",
        "    with gr.Row():\n",
        "        with gr.Column(scale=1):\n",
        "            context_input = gr.Textbox(\n",
        "                lines=12,\n",
        "                label=\"📄 Teks Konteks\",\n",
        "                placeholder=\"Masukkan artikel, paragraf, atau kutipan di sini...\",\n",
        "                show_label=True\n",
        "            )\n",
        "            question_input = gr.Textbox(\n",
        "                lines=1,\n",
        "                label=\"❓ Pertanyaan\",\n",
        "                placeholder=\"Apa yang ingin kamu ketahui?\",\n",
        "                show_label=True\n",
        "            )\n",
        "            ask_button = gr.Button(\"🔍 Dapatkan Jawaban\", variant=\"primary\", size=\"lg\")\n",
        "        with gr.Column(scale=1):\n",
        "            answer_output = gr.Textbox(\n",
        "                label=\"📢 Jawaban dari Model\",\n",
        "                placeholder=\"Jawaban akan muncul di sini...\",\n",
        "                lines=3,\n",
        "                max_lines=5\n",
        "            )\n",
        "\n",
        "    ask_button.click(fn=answer_question, inputs=[context_input, question_input], outputs=answer_output)\n",
        "\n",
        "# Menjalankan aplikasi\n",
        "demo.launch()\n"
      ],
      "metadata": {
        "id": "kRgGiddWNS7S"
      },
      "execution_count": null,
      "outputs": []
    }
  ],
  "metadata": {
    "kernelspec": {
      "display_name": "anvil",
      "language": "python",
      "name": "anvil"
    },
    "language_info": {
      "codemirror_mode": {
        "name": "ipython",
        "version": 3
      },
      "file_extension": ".py",
      "mimetype": "text/x-python",
      "name": "python",
      "nbconvert_exporter": "python",
      "pygments_lexer": "ipython3",
      "version": "3.7.3"
    },
    "colab": {
      "provenance": [],
      "gpuType": "T4"
    },
    "accelerator": "GPU"
  },
  "nbformat": 4,
  "nbformat_minor": 0
}