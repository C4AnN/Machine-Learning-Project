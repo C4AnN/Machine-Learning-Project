{
  "cells": [
    {
      "cell_type": "markdown",
      "metadata": {
        "id": "4hUUxqTLM9DM"
      },
      "source": [
        "# Install Dependencies"
      ]
    },
    {
      "cell_type": "code",
      "execution_count": null,
      "metadata": {
        "tags": [],
        "id": "6bMzJmCeM9DO"
      },
      "outputs": [],
      "source": [
        "# Pytorch install\n",
        "!pip install torch==1.10.2+cu113 torchvision==0.11.3+cu113 torchaudio===0.10.2+cu113 -f https://download.pytorch.org/whl/cu113/torch_stable.html"
      ]
    },
    {
      "cell_type": "code",
      "execution_count": null,
      "metadata": {
        "tags": [],
        "id": "8fQ9dfLUM9DO"
      },
      "outputs": [],
      "source": [
        "# Install transformers\n",
        "!pip install transformers"
      ]
    },
    {
      "cell_type": "markdown",
      "metadata": {
        "id": "07gu46IBM9DO"
      },
      "source": [
        "# Load Model"
      ]
    },
    {
      "cell_type": "code",
      "execution_count": null,
      "metadata": {
        "id": "9FnPs4tjM9DP"
      },
      "outputs": [],
      "source": [
        "# Importing the dependencies for the RoBERTa model\n",
        "from transformers import AutoModelForQuestionAnswering, AutoTokenizer, pipeline"
      ]
    },
    {
      "cell_type": "code",
      "execution_count": null,
      "metadata": {
        "id": "P29vGQNvM9DP"
      },
      "outputs": [],
      "source": [
        "# Creating the Q&A pipeline\n",
        "nlp = pipeline('question-answering', model='deepset/roberta-base-squad2', tokenizer='deepset/roberta-base-squad2')"
      ]
    },
    {
      "cell_type": "code",
      "execution_count": null,
      "metadata": {
        "id": "F0cW3ewJM9DP"
      },
      "outputs": [],
      "source": [
        "# Contextual text or corpus\n",
        "wikipedia_text = \"\"\"\n",
        "Spider-Man is a superhero appearing in American comic books published by Marvel Comics. Created by writer-editor Stan Lee and artist Steve Ditko, he first appeared in the anthology comic book Amazing Fantasy #15 (August 1962) in the Silver Age of Comic Books. He has since been featured in movies, television shows, video games, and plays. Spider-Man is the alias of Peter Parker, an orphan raised by his Aunt May and Uncle Ben in New York City after his parents Richard and Mary Parker died in a plane crash. Lee and Ditko had the character deal with the struggles of adolescence and financial issues and gave him many supporting characters, such as Flash Thompson, J. Jonah Jameson and Harry Osborn, romantic interests Gwen Stacy, Mary Jane Watson and the Black Cat, and foes such as Doctor Octopus, the Green Goblin and Venom. In his origin story, he gets spider-related abilities from a bite from a radioactive spider; these include clinging to surfaces, superhuman strength and agility, and detecting danger with his \"spider-sense.\" He also builds wrist-mounted \"web-shooter\" devices that shoot artificial spider webs of his own design.\n",
        "\n",
        "When Spider-Man first appeared in the early 1960s, teenagers in superhero comic books were usually relegated to the role of sidekick to the protagonist. The Spider-Man series broke ground by featuring Peter Parker, a high school student from Queens behind Spider-Man's secret identity and with whose \"self-obsessions with rejection, inadequacy, and loneliness\" young readers could relate.[9] While Spider-Man had all the makings of a sidekick, unlike previous teen heroes such as Bucky and Robin, Spider-Man had no superhero mentor like Captain America and Batman; he thus had to learn for himself that \"with great power there must also come great responsibility\"—a line included in a text box in the final panel of the first Spider-Man story but later retroactively attributed to his guardian, his late Uncle Ben Parker.\n",
        "\"\"\""
      ]
    },
    {
      "cell_type": "code",
      "execution_count": null,
      "metadata": {
        "id": "hktd-TyBM9DP"
      },
      "outputs": [],
      "source": [
        "# Define question set\n",
        "question_set = {\n",
        "                'question':'Who is Spiderman\\'s enemy?',\n",
        "                'context':wikipedia_text\n",
        "               }"
      ]
    },
    {
      "cell_type": "code",
      "execution_count": null,
      "metadata": {
        "id": "3HSgNUCyM9DP"
      },
      "outputs": [],
      "source": [
        "results = nlp(question_set)"
      ]
    },
    {
      "cell_type": "code",
      "execution_count": null,
      "metadata": {
        "id": "Y7eM3nM8M9DQ"
      },
      "outputs": [],
      "source": [
        "results['answer']"
      ]
    },
    {
      "cell_type": "code",
      "source": [
        "# Install dependencies (hanya jika belum terinstall)\n",
        "# !pip install torch==1.10.2+cu113 torchvision==0.11.3+cu113 torchaudio===0.10.2+cu113 -f https://download.pytorch.org/whl/cu113/torch_stable.html\n",
        "# !pip install transformers gradio\n",
        "\n",
        "from transformers import pipeline\n",
        "import gradio as gr\n",
        "\n",
        "# Load pipeline dengan model RoBERTa\n",
        "qa_pipeline = pipeline(\"question-answering\", model=\"deepset/roberta-base-squad2\", tokenizer=\"deepset/roberta-base-squad2\")\n",
        "\n",
        "# Fungsi utama untuk QA\n",
        "def answer_question(context, question):\n",
        "    if not context.strip() or not question.strip():\n",
        "        return \"Mohon masukkan konteks dan pertanyaan.\"\n",
        "\n",
        "    input_data = {\n",
        "        'context': context,\n",
        "        'question': question\n",
        "    }\n",
        "    result = qa_pipeline(input_data)\n",
        "    return result['answer']\n",
        "\n",
        "# Membuat antarmuka Gradio\n",
        "interface = gr.Interface(\n",
        "    fn=answer_question,\n",
        "    inputs=[\n",
        "        gr.Textbox(lines=10, label=\"Masukkan Teks Konteks (Contoh: Artikel Wikipedia)\"),\n",
        "        gr.Textbox(lines=1, label=\"Masukkan Pertanyaan\")\n",
        "    ],\n",
        "    outputs=gr.Textbox(label=\"Jawaban\"),\n",
        "    title=\"Question Answering dengan RoBERTa\",\n",
        "    description=\"Masukkan teks dan pertanyaan untuk mendapatkan jawaban menggunakan model RoBERTa dari Hugging Face (deepset/roberta-base-squad2).\"\n",
        ")\n",
        "\n",
        "# Menjalankan aplikasi Gradio\n",
        "interface.launch()\n"
      ],
      "metadata": {
        "id": "kRgGiddWNS7S"
      },
      "execution_count": null,
      "outputs": []
    }
  ],
  "metadata": {
    "kernelspec": {
      "display_name": "anvil",
      "language": "python",
      "name": "anvil"
    },
    "language_info": {
      "codemirror_mode": {
        "name": "ipython",
        "version": 3
      },
      "file_extension": ".py",
      "mimetype": "text/x-python",
      "name": "python",
      "nbconvert_exporter": "python",
      "pygments_lexer": "ipython3",
      "version": "3.7.3"
    },
    "colab": {
      "provenance": []
    }
  },
  "nbformat": 4,
  "nbformat_minor": 0
}