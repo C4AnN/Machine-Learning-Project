{
  "nbformat": 4,
  "nbformat_minor": 0,
  "metadata": {
    "colab": {
      "provenance": [],
      "gpuType": "T4"
    },
    "kernelspec": {
      "name": "python3",
      "display_name": "Python 3"
    },
    "language_info": {
      "name": "python"
    },
    "accelerator": "GPU"
  },
  "cells": [
    {
      "cell_type": "code",
      "source": [
        "!pip install gradio"
      ],
      "metadata": {
        "id": "QhCqLHLszVLo"
      },
      "execution_count": null,
      "outputs": []
    },
    {
      "cell_type": "code",
      "source": [
        "import torch\n",
        "import gradio as gr\n",
        "from diffusers import AnimateDiffPipeline, MotionAdapter, EulerDiscreteScheduler\n",
        "from diffusers.utils import export_to_gif\n",
        "from huggingface_hub import hf_hub_download\n",
        "from safetensors.torch import load_file\n",
        "import tempfile\n",
        "\n",
        "# Setup device\n",
        "device = \"cuda\" if torch.cuda.is_available() else \"cpu\"\n",
        "dtype = torch.float16 if torch.cuda.is_available() else torch.float32\n",
        "\n",
        "# Model configs\n",
        "step = 4\n",
        "repo = \"ByteDance/AnimateDiff-Lightning\"\n",
        "ckpt = f\"animatediff_lightning_{step}step_diffusers.safetensors\"\n",
        "base = \"emilianJR/epiCRealism\"\n",
        "\n",
        "# Load motion adapter\n",
        "adapter = MotionAdapter().to(device, dtype)\n",
        "adapter.load_state_dict(load_file(hf_hub_download(repo, ckpt), device=device))\n",
        "\n",
        "# Load AnimateDiff pipeline\n",
        "pipe = AnimateDiffPipeline.from_pretrained(base, motion_adapter=adapter, torch_dtype=dtype).to(device)\n",
        "pipe.scheduler = EulerDiscreteScheduler.from_config(\n",
        "    pipe.scheduler.config,\n",
        "    timestep_spacing=\"trailing\",\n",
        "    beta_schedule=\"linear\"\n",
        ")\n",
        "\n",
        "# Function to generate animation\n",
        "def generate_animation(prompt):\n",
        "    try:\n",
        "        output = pipe(prompt=prompt, guidance_scale=1.0, num_inference_steps=step)\n",
        "        with tempfile.NamedTemporaryFile(suffix=\".gif\", delete=False) as tmp:\n",
        "            export_to_gif(output.frames[0], tmp.name)\n",
        "            return tmp.name\n",
        "    except Exception as e:\n",
        "        return gr.Textbox.update(value=f\"❌ Error: {str(e)}\")\n",
        "\n",
        "# Gradio UI\n",
        "with gr.Blocks(title=\"AnimateDiff Lightning - Text to GIF\", theme=gr.themes.Soft()) as demo:\n",
        "    gr.Markdown(\"\"\"\n",
        "    <div style='text-align:center; padding:20px;'>\n",
        "        <h1 style='font-size:2.5rem; color:#4f46e5;'>🎞️ AnimateDiff Lightning</h1>\n",
        "        <p style='font-size:1.1rem; color:#444;'>Buat animasi GIF dari teks menggunakan model <b>AnimateDiff Lightning</b> berbasis diffusion!</p>\n",
        "    </div>\n",
        "    \"\"\")\n",
        "\n",
        "    with gr.Row():\n",
        "        with gr.Column(scale=1, min_width=400):\n",
        "            prompt_input = gr.Textbox(\n",
        "                label=\"📝 Prompt\",\n",
        "                placeholder=\"Contoh: Cherry blossoms falling slowly in a peaceful Japanese garden\",\n",
        "                lines=2\n",
        "            )\n",
        "            generate_button = gr.Button(\"🚀 Buat Animasi\", variant=\"primary\", size=\"lg\")\n",
        "\n",
        "        with gr.Column(scale=1, min_width=320):\n",
        "            output_gif = gr.Image(\n",
        "                type=\"filepath\",\n",
        "                width=320,\n",
        "                show_label=True\n",
        "            )\n",
        "\n",
        "    generate_button.click(fn=generate_animation, inputs=prompt_input, outputs=output_gif)\n",
        "\n",
        "# Jalankan UI\n",
        "if __name__ == \"__main__\":\n",
        "    demo.launch()\n"
      ],
      "metadata": {
        "id": "HBzZ1VSGf5ZU"
      },
      "execution_count": null,
      "outputs": []
    }
  ]
}