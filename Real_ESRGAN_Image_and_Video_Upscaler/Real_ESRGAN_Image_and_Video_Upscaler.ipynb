{
  "nbformat": 4,
  "nbformat_minor": 0,
  "metadata": {
    "colab": {
      "provenance": [],
      "collapsed_sections": [
        "6BPxh_VmVVIu"
      ],
      "gpuType": "T4"
    },
    "kernelspec": {
      "name": "python3",
      "display_name": "Python 3"
    },
    "language_info": {
      "name": "python"
    },
    "accelerator": "GPU"
  },
  "cells": [
    {
      "cell_type": "markdown",
      "metadata": {
        "id": "view-in-github"
      },
      "source": [
        "<a href=\"https://colab.research.google.com/github/ardha27/Real-ESRGAN-Image-Video-Upscaler/blob/main/Real_ESRGAN_Image_and_Video_Upscaler.ipynb\" target=\"_parent\"><img src=\"https://colab.research.google.com/assets/colab-badge.svg\" alt=\"Open In Colab\"/></a>"
      ]
    },
    {
      "cell_type": "code",
      "source": [
        "from google.colab import drive\n",
        "drive.mount('/content/drive')"
      ],
      "metadata": {
        "id": "Dxzyb6VcLKbN"
      },
      "execution_count": null,
      "outputs": []
    },
    {
      "cell_type": "code",
      "metadata": {
        "id": "GnpnrLfMV2jU"
      },
      "source": [
        "# @title\n",
        "# Clone Real-ESRGAN and enter the Real-ESRGAN\n",
        "!git clone https://github.com/xinntao/Real-ESRGAN.git\n",
        "%cd Real-ESRGAN\n",
        "# Set up the environment\n",
        "!pip install basicsr\n",
        "!pip install facexlib\n",
        "!pip install gfpgan\n",
        "!pip install ffmpeg-python\n",
        "!pip install -r requirements.txt\n",
        "!python setup.py develop\n",
        "\n",
        "from IPython.display import HTML\n",
        "from base64 import b64encode\n",
        "\n",
        "def show_video(video_path, video_width = 720):\n",
        "\n",
        "  video_file = open(video_path, \"r+b\").read()\n",
        "\n",
        "  video_url = f\"data:video/mp4;base64,{b64encode(video_file).decode()}\"\n",
        "  return HTML(f\"\"\"<video width={video_width} controls><source src=\"{video_url}\"></video>\"\"\")"
      ],
      "execution_count": null,
      "outputs": []
    },
    {
      "cell_type": "code",
      "source": [
        "import os\n",
        "\n",
        "# Define the path to the file\n",
        "file_path = \"/usr/local/lib/python3.10/dist-packages/basicsr/data/degradations.py\"\n",
        "\n",
        "# Read the content of the file\n",
        "with open(file_path, 'r') as file:\n",
        "    file_data = file.readlines()\n",
        "\n",
        "# Modify the specific line\n",
        "for i, line in enumerate(file_data):\n",
        "    if 'from torchvision.transforms.functional_tensor import rgb_to_grayscale' in line:\n",
        "        file_data[i] = 'from torchvision.transforms.functional import rgb_to_grayscale\\n'\n",
        "        break\n",
        "\n",
        "# Write the modified content back to the file\n",
        "with open(file_path, 'w') as file:\n",
        "    file.writelines(file_data)\n",
        "\n",
        "print(\"Modification applied successfully.\")\n"
      ],
      "metadata": {
        "id": "5k2v5cdQnwQo"
      },
      "execution_count": null,
      "outputs": []
    },
    {
      "cell_type": "code",
      "source": [
        "!pip uninstall -y basicsr torch torchvision\n",
        "!pip install torch==2.1.0 torchvision==0.16.0\n",
        "!pip install basicsr\n"
      ],
      "metadata": {
        "id": "db58Go4DMJAa"
      },
      "execution_count": null,
      "outputs": []
    },
    {
      "cell_type": "code",
      "source": [
        "# !pip uninstall -y numpy\n",
        "# !pip install numpy<2"
      ],
      "metadata": {
        "id": "MClk89YgNANU"
      },
      "execution_count": null,
      "outputs": []
    },
    {
      "cell_type": "code",
      "source": [
        "# Install versi yang kompatibel (misalnya: 1.24.4)\n",
        "!pip install numpy==1.24.4"
      ],
      "metadata": {
        "id": "13V-7DqaPlat"
      },
      "execution_count": null,
      "outputs": []
    },
    {
      "cell_type": "code",
      "source": [
        "import os\n",
        "\n",
        "source = \"image\" # @param [\"image\", \"video\"]\n",
        "input = \"/content/drive/MyDrive/coba1.jpg\" # @param {type:\"string\"}\n",
        "model = \"RealESRGAN_x4plus_anime_6B\" # @param [\"RealESRGAN_x4plus\", \"RealESRGAN_x2plus\", \"RealESRNet_x4plus\", \"official ESRGAN_x4\", \"realesr-general-x4v3\", \"RealESRGAN_x4plus_anime_6B\", \"realesr-animevideov3\"]\n",
        "scale = 4 # @param {type:\"slider\", min:1, max:4, step:1}\n",
        "face_enhance = True # @param {type:\"boolean\"}\n",
        "\n",
        "\n",
        "if source==\"image\":\n",
        "  code = \"inference_realesrgan.py\"\n",
        "elif source ==\"video\":\n",
        "  code = \"inference_realesrgan_video.py\"\n",
        "\n",
        "def generate_output_path(input_path):\n",
        "    # Get the directory from the input path\n",
        "    directory, _ = os.path.split(input_path)\n",
        "\n",
        "    return directory\n",
        "\n",
        "def generate_result_path(input_path):\n",
        "    # Extract the directory and filename from the input path\n",
        "    directory, filename = os.path.split(input_path)\n",
        "\n",
        "    # Remove the extension from the filename\n",
        "    filename_without_extension, extension = os.path.splitext(filename)\n",
        "\n",
        "    # Create the output path by adding '_out' before the extension\n",
        "    output_filename = filename_without_extension + \"_out\" + extension\n",
        "    output_path = os.path.join(directory, output_filename)\n",
        "\n",
        "    return output_path\n",
        "\n",
        "output = generate_output_path(input)\n",
        "result = generate_result_path(input)\n",
        "print(output)\n",
        "print(result)"
      ],
      "metadata": {
        "id": "aRJcSYVwvl2V"
      },
      "execution_count": null,
      "outputs": []
    },
    {
      "cell_type": "code",
      "source": [
        "if face_enhance == True:\n",
        "  command = f\"python '{code}' -i '{input}' -n '{model}' -o '{output}' -s '{scale}' --face_enhance\"\n",
        "elif face_enhance == False:\n",
        "  command = f\"python '{code}' -i '{input}' -n '{model}' -o '{output}' -s '{scale}'\"\n",
        "!{command}\n",
        "# -h                   show this help\n",
        "# -i input-path        input image path (jpg/png/webp) or directory\n",
        "# -o output-path       output image path (jpg/png/webp) or directory\n",
        "# -s scale             upscale ratio (can be 2, 3, 4. default=4)\n",
        "# -t tile-size         tile size (>=32/0=auto, default=0) can be 0,0,0 for multi-gpu\n",
        "# -m model-path        folder path to the pre-trained models. default=models\n",
        "# -n model-name        model name (default=realesr-animevideov3, can be realesr-animevideov3 | realesrgan-x4plus | realesrgan-x4plus-anime | realesrnet-x4plus)\n",
        "# -g gpu-id            gpu device to use (default=auto) can be 0,1,2 for multi-gpu\n",
        "# -j load:proc:save    thread count for load/proc/save (default=1:2:2) can be 1:2,2,2:2 for multi-gpu\n",
        "# -x                   enable tta mode\"\n",
        "# -f format            output image format (jpg/png/webp, default=ext/png)\n",
        "# -v                   verbose output"
      ],
      "metadata": {
        "id": "P1Lu7mqgodae"
      },
      "execution_count": null,
      "outputs": []
    },
    {
      "cell_type": "code",
      "source": [
        "# input video\n",
        "show_video(input)"
      ],
      "metadata": {
        "id": "_puouBvsyUrk"
      },
      "execution_count": null,
      "outputs": []
    },
    {
      "cell_type": "code",
      "source": [
        "# enhanced video\n",
        "show_video(result)"
      ],
      "metadata": {
        "id": "ISJwZ1dWymVu"
      },
      "execution_count": null,
      "outputs": []
    },
    {
      "cell_type": "code",
      "source": [
        "from IPython.display import Image, display\n",
        "\n",
        "display(Image(filename=input, width=720))\n",
        "display(Image(filename=result, width=720))"
      ],
      "metadata": {
        "id": "hjqL32M85qIT"
      },
      "execution_count": null,
      "outputs": []
    },
    {
      "cell_type": "code",
      "source": [
        "!pip install gradio"
      ],
      "metadata": {
        "id": "w1zXyymRQz5D"
      },
      "execution_count": null,
      "outputs": []
    },
    {
      "cell_type": "code",
      "source": [
        "import gradio as gr\n",
        "import os\n",
        "import subprocess\n",
        "from PIL import Image\n",
        "\n",
        "# Fungsi bantu untuk hasil path\n",
        "def generate_result_path(input_path):\n",
        "    directory, filename = os.path.split(input_path)\n",
        "    filename_without_extension, extension = os.path.splitext(filename)\n",
        "    output_filename = filename_without_extension + \"_out\" + extension\n",
        "    output_path = os.path.join(directory, output_filename)\n",
        "    return output_path\n",
        "\n",
        "# Fungsi resize dengan menjaga rasio\n",
        "def resize_image(image_path, target_width):\n",
        "    image = Image.open(image_path)\n",
        "    w_percent = (target_width / float(image.size[0]))\n",
        "    h_size = int((float(image.size[1]) * float(w_percent)))\n",
        "    resized_image = image.resize((target_width, h_size), Image.LANCZOS)\n",
        "    return resized_image\n",
        "\n",
        "# Fungsi utama\n",
        "def enhance_image(input_image, model, scale, face_enhance, display_width):\n",
        "    input_path = \"/content/input_image.png\"\n",
        "    input_image.save(input_path)\n",
        "\n",
        "    output_path = generate_result_path(input_path)\n",
        "\n",
        "    command = [\n",
        "        \"python\", \"inference_realesrgan.py\",\n",
        "        \"-i\", input_path,\n",
        "        \"-n\", model,\n",
        "        \"-s\", str(scale),\n",
        "        \"-o\", os.path.dirname(output_path)\n",
        "    ]\n",
        "    if face_enhance:\n",
        "        command.append(\"--face_enhance\")\n",
        "\n",
        "    try:\n",
        "        subprocess.run(command, check=True)\n",
        "    except subprocess.CalledProcessError as e:\n",
        "        return f\"❌ Error during enhancement: {e}\", None\n",
        "\n",
        "    # Resize hasil enhance untuk display\n",
        "    resized_output = resize_image(output_path, display_width)\n",
        "\n",
        "    return input_path, resized_output\n",
        "\n",
        "# Daftar model yang didukung\n",
        "models = [\n",
        "    \"RealESRGAN_x4plus\",\n",
        "    \"RealESRGAN_x2plus\",\n",
        "    \"RealESRNet_x4plus\",\n",
        "    \"official ESRGAN_x4\",\n",
        "    \"realesr-general-x4v3\",\n",
        "    \"RealESRGAN_x4plus_anime_6B\",\n",
        "    \"realesr-animevideov3\"\n",
        "]\n",
        "\n",
        "# Resolusi tampilan yang tersedia\n",
        "display_sizes = [256, 512, 720, 1024, 1280]\n",
        "\n",
        "# Gradio UI\n",
        "with gr.Blocks() as demo:\n",
        "    gr.Markdown(\"## 🖼️ Real-ESRGAN Image Enhancer + Display Size Control\")\n",
        "    gr.Markdown(\"Tingkatkan kualitas gambar dan atur ukuran tampilannya.\")\n",
        "\n",
        "    with gr.Row():\n",
        "        with gr.Column():\n",
        "            input_image = gr.Image(label=\"Input Gambar\", type=\"pil\")\n",
        "            model_choice = gr.Dropdown(choices=models, value=\"RealESRGAN_x4plus\", label=\"Pilih Model\")\n",
        "            scale_slider = gr.Slider(minimum=1, maximum=4, value=4, step=1, label=\"Skala (Scale)\")\n",
        "            face_checkbox = gr.Checkbox(label=\"Face Enhance\", value=True)\n",
        "            display_width = gr.Dropdown(choices=display_sizes, value=720, label=\"Ukuran Tampilan Output (px)\")\n",
        "            btn = gr.Button(\"Tingkatkan Gambar\")\n",
        "\n",
        "        with gr.Column():\n",
        "            input_display = gr.Image(label=\"Gambar Asli\")\n",
        "            output_display = gr.Image(label=\"Hasil Enhanced (Resize Only)\")\n",
        "\n",
        "    btn.click(\n",
        "        fn=enhance_image,\n",
        "        inputs=[input_image, model_choice, scale_slider, face_checkbox, display_width],\n",
        "        outputs=[input_display, output_display]\n",
        "    )\n",
        "\n",
        "# Jalankan Gradio\n",
        "demo.launch(debug=True, allowed_paths=[\"/content\"])\n"
      ],
      "metadata": {
        "id": "3pqmANVLQ53F"
      },
      "execution_count": null,
      "outputs": []
    }
  ]
}