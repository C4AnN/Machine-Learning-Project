{
  "nbformat": 4,
  "nbformat_minor": 0,
  "metadata": {
    "colab": {
      "provenance": [],
      "gpuType": "T4"
    },
    "kernelspec": {
      "name": "python3",
      "display_name": "Python 3"
    },
    "language_info": {
      "name": "python"
    },
    "accelerator": "GPU"
  },
  "cells": [
    {
      "cell_type": "code",
      "source": [
        "!pip install gradio"
      ],
      "metadata": {
        "id": "QWWnzewoVm3k"
      },
      "execution_count": null,
      "outputs": []
    },
    {
      "cell_type": "code",
      "source": [
        "import torch\n",
        "from PIL import Image\n",
        "from transformers import BlipProcessor, BlipForConditionalGeneration\n",
        "import gradio as gr\n",
        "\n",
        "# Cek perangkat (GPU jika tersedia)\n",
        "device = torch.device(\"cuda\" if torch.cuda.is_available() else \"cpu\")\n",
        "\n",
        "# Load processor dan model BLIP\n",
        "processor = BlipProcessor.from_pretrained(\"Salesforce/blip-image-captioning-base\")\n",
        "model = BlipForConditionalGeneration.from_pretrained(\"Salesforce/blip-image-captioning-base\").to(device)\n",
        "\n",
        "# Ukuran standar untuk gambar input\n",
        "STANDARD_SIZE = (384, 384)\n",
        "\n",
        "# Fungsi captioning\n",
        "def generate_captions(image):\n",
        "    image = image.resize(STANDARD_SIZE).convert(\"RGB\")\n",
        "\n",
        "    # Conditional caption\n",
        "    text = \"a photography of\"\n",
        "    inputs = processor(image, text, return_tensors=\"pt\").to(device)\n",
        "    out_cond = model.generate(**inputs)\n",
        "    caption_conditional = processor.decode(out_cond[0], skip_special_tokens=True)\n",
        "\n",
        "    # Unconditional caption\n",
        "    inputs = processor(image, return_tensors=\"pt\").to(device)\n",
        "    out_uncond = model.generate(**inputs)\n",
        "    caption_unconditional = processor.decode(out_uncond[0], skip_special_tokens=True)\n",
        "\n",
        "    return caption_conditional, caption_unconditional\n",
        "\n",
        "# UI dengan desain modern\n",
        "with gr.Blocks(theme=gr.themes.Soft(), title=\"BLIP Image Captioning\") as demo:\n",
        "    gr.Markdown(\n",
        "        \"\"\"\n",
        "        <div style=\"text-align: center; padding: 10px;\">\n",
        "            <h1 style=\"font-size: 2.5rem;\">🖼️📝 Image Captioning with BLIP</h1>\n",
        "            <p style=\"font-size: 1.1rem; color: #444;\">\n",
        "                Upload gambar untuk menghasilkan deskripsi otomatis dengan model <b>BLIP</b>.<br>\n",
        "                Sistem ini memberikan dua jenis caption:\n",
        "                <ul style=\"text-align: left; max-width: 600px; margin: auto;\">\n",
        "                    <li><b>Conditional Caption</b>: dengan prompt awal (<code>a photography of</code>)</li>\n",
        "                    <li><b>Unconditional Caption</b>: tanpa prompt, sepenuhnya otomatis</li>\n",
        "                </ul>\n",
        "            </p>\n",
        "        </div>\n",
        "        \"\"\"\n",
        "    )\n",
        "\n",
        "    with gr.Row():\n",
        "        with gr.Column(scale=1):\n",
        "            image_input = gr.Image(\n",
        "                type=\"pil\",\n",
        "                label=\"📷 Upload Image\",\n",
        "                image_mode=\"RGB\",\n",
        "                width=STANDARD_SIZE[0],\n",
        "                height=STANDARD_SIZE[1]\n",
        "            )\n",
        "            submit_btn = gr.Button(\"🧠 Generate Captions\", variant=\"primary\", size=\"lg\")\n",
        "        with gr.Column(scale=1):\n",
        "            conditional_caption = gr.Textbox(label=\"🎯 Conditional Caption\")\n",
        "            unconditional_caption = gr.Textbox(label=\"✨ Unconditional Caption\")\n",
        "\n",
        "    submit_btn.click(fn=generate_captions, inputs=image_input, outputs=[conditional_caption, unconditional_caption])\n",
        "\n",
        "# Jalankan\n",
        "if __name__ == \"__main__\":\n",
        "    demo.launch()\n"
      ],
      "metadata": {
        "id": "tsiZ9tUHVlp4"
      },
      "execution_count": null,
      "outputs": []
    }
  ]
}