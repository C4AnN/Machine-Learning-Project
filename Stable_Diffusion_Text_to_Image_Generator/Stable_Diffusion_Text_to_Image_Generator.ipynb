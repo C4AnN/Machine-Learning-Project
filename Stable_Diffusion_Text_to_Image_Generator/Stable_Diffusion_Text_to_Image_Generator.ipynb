{
  "nbformat": 4,
  "nbformat_minor": 0,
  "metadata": {
    "colab": {
      "provenance": [],
      "gpuType": "T4"
    },
    "kernelspec": {
      "name": "python3",
      "display_name": "Python 3"
    },
    "language_info": {
      "name": "python"
    },
    "accelerator": "GPU"
  },
  "cells": [
    {
      "cell_type": "code",
      "source": [
        "!pip install gradio"
      ],
      "metadata": {
        "id": "h-5xx-Ve_WrS"
      },
      "execution_count": null,
      "outputs": []
    },
    {
      "cell_type": "code",
      "source": [
        "from diffusers import StableDiffusionPipeline\n",
        "import torch\n",
        "import gradio as gr\n",
        "\n",
        "# Load model\n",
        "model_id = \"sd-legacy/stable-diffusion-v1-5\"\n",
        "pipe = StableDiffusionPipeline.from_pretrained(model_id, torch_dtype=torch.float16)\n",
        "pipe = pipe.to(\"cuda\")\n",
        "\n",
        "# Fungsi untuk menghasilkan beberapa gambar dari prompt\n",
        "def generate_images(prompt, num_images=4):\n",
        "    images = pipe(prompt, num_inference_steps=50, num_images_per_prompt=num_images).images\n",
        "    return images  # list of PIL images\n",
        "\n",
        "# Buat UI dengan Gradio\n",
        "title = \"🧠 Stable Diffusion - Text to Image Generator\"\n",
        "description = \"Masukkan deskripsi teks dan hasilkan beberapa gambar menggunakan model Stable Diffusion v1.5.\"\n",
        "\n",
        "# Buat antarmuka Gradio\n",
        "gr.Interface(\n",
        "    fn=generate_images,\n",
        "    inputs=[\n",
        "        gr.Textbox(label=\"Prompt\", placeholder=\"Contoh: a photo of an astronaut riding a horse on mars\"),\n",
        "        gr.Slider(1, 8, step=1, value=4, label=\"Jumlah Gambar\")\n",
        "    ],\n",
        "    outputs=gr.Gallery(label=\"Generated Images\"),\n",
        "    title=title,\n",
        "    description=description,\n",
        "    theme=\"default\"\n",
        ").launch()\n"
      ],
      "metadata": {
        "id": "tvf5Rud1Dhwa"
      },
      "execution_count": null,
      "outputs": []
    }
  ]
}